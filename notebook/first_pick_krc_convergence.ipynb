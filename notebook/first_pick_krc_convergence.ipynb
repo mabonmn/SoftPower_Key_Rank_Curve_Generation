{
 "cells": [
  {
   "cell_type": "code",
   "execution_count": 50,
   "id": "004e19c6",
   "metadata": {},
   "outputs": [],
   "source": [
    "import numpy as np\n",
    "\n",
    "whole_pack = np.load('/home/mabon/model_backup/CNN/Output/xmega/HW/radomdelay/RD200/rank_dir/ranking_raw_data.npz')\n",
    "x, y = whole_pack['x'], whole_pack['y']\n"
   ]
  },
  {
   "cell_type": "code",
   "execution_count": 51,
   "id": "0a9375a9",
   "metadata": {},
   "outputs": [
    {
     "data": {
      "text/plain": [
       "0.26"
      ]
     },
     "execution_count": 51,
     "metadata": {},
     "output_type": "execute_result"
    }
   ],
   "source": [
    "y[4999]"
   ]
  },
  {
   "cell_type": "code",
   "execution_count": 52,
   "id": "aa6105b9",
   "metadata": {
    "scrolled": true
   },
   "outputs": [
    {
     "name": "stdout",
     "output_type": "stream",
     "text": [
      "4115\n"
     ]
    }
   ],
   "source": [
    "for i in range(5000):\n",
    "    if(y[i]<0.5):\n",
    "        print(i)\n",
    "        break"
   ]
  },
  {
   "cell_type": "code",
   "execution_count": null,
   "id": "8afb05ab",
   "metadata": {},
   "outputs": [],
   "source": []
  },
  {
   "cell_type": "code",
   "execution_count": null,
   "id": "1171d581",
   "metadata": {},
   "outputs": [],
   "source": []
  }
 ],
 "metadata": {
  "kernelspec": {
   "display_name": "Python 3 (ipykernel)",
   "language": "python",
   "name": "python3"
  },
  "language_info": {
   "codemirror_mode": {
    "name": "ipython",
    "version": 3
   },
   "file_extension": ".py",
   "mimetype": "text/x-python",
   "name": "python",
   "nbconvert_exporter": "python",
   "pygments_lexer": "ipython3",
   "version": "3.7.13"
  }
 },
 "nbformat": 4,
 "nbformat_minor": 5
}
